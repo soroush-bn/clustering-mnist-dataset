{
  "nbformat": 4,
  "nbformat_minor": 0,
  "metadata": {
    "colab": {
      "name": "meanshiftclustering.ipynb",
      "provenance": [],
      "collapsed_sections": []
    },
    "kernelspec": {
      "display_name": "Python 3",
      "name": "python3"
    },
    "language_info": {
      "name": "python"
    }
  },
  "cells": [
    {
      "cell_type": "markdown",
      "metadata": {
        "id": "so1nrXfKzrSu"
      },
      "source": [
        "**Mean shift clustering :** now we want to implement mean shift clustering .\n"
      ]
    },
    {
      "cell_type": "code",
      "metadata": {
        "colab": {
          "base_uri": "https://localhost:8080/",
          "height": 350
        },
        "id": "CQKRXqIczohu",
        "outputId": "2081d44d-d5e9-4037-fd9d-7ea876010901"
      },
      "source": [
        "import sys\n",
        "import sklearn\n",
        "import matplotlib\n",
        "import numpy as np\n",
        "import matplotlib.pyplot as plt\n",
        "%matplotlib inline\n",
        "from keras.datasets import mnist\n",
        "from tqdm import tqdm\n",
        "(x_train, y_train), (x_test, y_test) = mnist.load_data()\n",
        "print(x_train.shape)\n",
        "print(y_train.shape)\n",
        "plt.imshow(x_train[10])\n",
        "plt.show()\n",
        "y_train[10]\n",
        "# convert each image to 1 dimensional array\n",
        "\n",
        "X = x_train.reshape(len(x_train),-1)\n",
        "Y = y_train\n",
        "\n",
        "# normalize the data to 0 - 1\n",
        "\n",
        "X = X.astype(float) / 255.\n",
        "\n",
        "print(X.shape)\n",
        "print(X[0].shape)\n",
        "sklearn.__version__"
      ],
      "execution_count": null,
      "outputs": [
        {
          "output_type": "stream",
          "name": "stdout",
          "text": [
            "(60000, 28, 28)\n",
            "(60000,)\n"
          ]
        },
        {
          "output_type": "display_data",
          "data": {
            "image/png": "[encoded data removed]",
            "text/plain": [
              "<Figure size 432x288 with 1 Axes>"
            ]
          },
          "metadata": {
            "needs_background": "light"
          }
        },
        {
          "output_type": "stream",
          "name": "stdout",
          "text": [
            "(60000, 784)\n",
            "(784,)\n"
          ]
        },
        {
          "output_type": "execute_result",
          "data": {
            "application/vnd.google.colaboratory.intrinsic+json": {
              "type": "string"
            },
            "text/plain": [
              "'0.22.2.post1'"
            ]
          },
          "metadata": {},
          "execution_count": 7
        }
      ]
    },
    {
      "cell_type": "code",
      "metadata": {
        "id": "OLMKz9TF0V5V"
      },
      "source": [
        "from sklearn.cluster import MeanShift, estimate_bandwidth\n",
        "# Compute clustering with MeanShift\n",
        "\n",
        "# The following bandwidth can be automatically detected using\n",
        "#bandwidth = estimate_bandwidth(X, n_samples=10000)\n",
        "#print(bandwidth)\n"
      ],
      "execution_count": null,
      "outputs": []
    },
    {
      "cell_type": "code",
      "metadata": {
        "colab": {
          "base_uri": "https://localhost:8080/"
        },
        "id": "-H8fFkuv5Uxj",
        "outputId": "3a1f0d41-8d3f-4c5f-c858-dca88dcc177e"
      },
      "source": [
        "meanshift = MeanShift(bandwidth=8)\n",
        "meanshift.fit(X[:5000,])\n",
        "\n",
        "labels = meanshift.labels_\n",
        "cluster_centers = meanshift.cluster_centers_\n",
        "\n",
        "labels_unique = np.unique(labels)\n",
        "n_clusters_ = len(labels_unique)\n",
        "\n",
        "print(\"number of estimated clusters : %d\" % n_clusters_)"
      ],
      "execution_count": null,
      "outputs": [
        {
          "output_type": "stream",
          "name": "stdout",
          "text": [
            "number of estimated clusters : 20\n"
          ]
        }
      ]
    },
    {
      "cell_type": "code",
      "metadata": {
        "id": "LGscyb-YEim0"
      },
      "source": [
        ""
      ],
      "execution_count": null,
      "outputs": []
    },
    {
      "cell_type": "markdown",
      "metadata": {
        "id": "hgVpqEYD8YaH"
      },
      "source": [
        "with the bandwidth of 8 we get 20 clusters which has overlapping but if we choose 9.5 we will get 1 cluster , so the optimal value of bandwidth is somewhere between 8 and 9. But we will fit our data into meanshift algorithm with the bandwith of 8."
      ]
    },
    {
      "cell_type": "code",
      "metadata": {
        "colab": {
          "base_uri": "https://localhost:8080/"
        },
        "id": "mrXrjvQO9iUl",
        "outputId": "3c0f5e6e-90dc-48c6-d0bc-4c27518e4c22"
      },
      "source": [
        "meanshift = MeanShift(bandwidth=8)\n",
        "meanshift.fit(X[:10000,])\n",
        "\n",
        "labels = meanshift.labels_\n",
        "cluster_centers = meanshift.cluster_centers_\n",
        "\n",
        "labels_unique = np.unique(labels)\n",
        "n_clusters_ = len(labels_unique)\n",
        "\n",
        "print(\"number of estimated clusters : %d\" % n_clusters_)"
      ],
      "execution_count": null,
      "outputs": [
        {
          "output_type": "stream",
          "name": "stdout",
          "text": [
            "number of estimated clusters : 21\n"
          ]
        }
      ]
    },
    {
      "cell_type": "markdown",
      "metadata": {
        "id": "ChMqthVBYARm"
      },
      "source": [
        "So we get 21 clusters with bandwidth of 8 in 10k data and it took about 41 min to run this algorithm!!!\n",
        "although it has overlapping and we only needed 10 clusters but we can merge similar clusters.\n"
      ]
    },
    {
      "cell_type": "markdown",
      "metadata": {
        "id": "_Aeo_sKjYf2R"
      },
      "source": [
        "Now lets label them properly :"
      ]
    },
    {
      "cell_type": "code",
      "metadata": {
        "id": "HPBWHJCbYj0h"
      },
      "source": [
        "def infer_cluster_labels(n_clusters,labels_, actual_labels):\n",
        "  inferred_labels = {}\n",
        "\n",
        "  for i in range(n_clusters):\n",
        "\n",
        "    # find index of points in cluster\n",
        "    labels = []\n",
        "    index = np.where(labels_ == i)\n",
        "    #print(\"index is : \" + str(index))\n",
        "    # append actual labels for each point in cluster\n",
        "    labels.append(actual_labels[index])\n",
        "    #print(\"actual label  is : \" + str(actual_labels[index]))\n",
        "    # determine most common label\n",
        "    if len(labels[0]) == 1:\n",
        "        counts = np.bincount(labels[0])\n",
        "    else:\n",
        "        counts = np.bincount(np.squeeze(labels))\n",
        "\n",
        "    # assign the cluster to a value in the inferred_labels dictionary\n",
        "    if np.argmax(counts) in inferred_labels:\n",
        "        # append the new number to the existing array at this slot\n",
        "        inferred_labels[np.argmax(counts)].append(i)\n",
        "    else:\n",
        "        # create a new array in this slot\n",
        "        inferred_labels[np.argmax(counts)] = [i]\n",
        "\n",
        "    print(labels)\n",
        "    print('Cluster: {}, label: {}'.format(i, np.argmax(counts)))\n",
        "    \n",
        "  return inferred_labels\n",
        "\n"
      ],
      "execution_count": null,
      "outputs": []
    },
    {
      "cell_type": "code",
      "metadata": {
        "colab": {
          "base_uri": "https://localhost:8080/",
          "height": 1000
        },
        "id": "e4uZ7eQTYrx4",
        "outputId": "ca3697d0-e361-41b9-e35c-2505bf9373bd"
      },
      "source": [
        "def infer_data_labels(X_labels, cluster_labels):\n",
        "  # empty array of len(X)\n",
        "  predicted_labels = np.zeros(len(X_labels)).astype(np.uint8)\n",
        "\n",
        "  for i, cluster in enumerate(X_labels):\n",
        "      for key, value in cluster_labels.items():\n",
        "          if cluster in value:\n",
        "              predicted_labels[i] = key\n",
        "            \n",
        "  return predicted_labels\n",
        "\n",
        "# test the infer_cluster_labels() and infer_data_labels() functions\n",
        "\n",
        "cluster_labels = infer_cluster_labels(n_clusters_,labels_unique, Y)\n",
        "X_clusters = meanshift.predict(X[:10000,])\n",
        "#X_clusters says that each ndarray belong to which cluster but the index is not as same as label of our mnist(digits)\n",
        "predicted_labels = infer_data_labels(X_clusters, cluster_labels)\n",
        "print (predicted_labels[:10])\n",
        "print (Y[:10])\n",
        "plt.imshow(X[2].reshape(28,28))\n",
        "plt.show()"
      ],
      "execution_count": null,
      "outputs": [
        {
          "output_type": "stream",
          "name": "stdout",
          "text": [
            "[array([5], dtype=uint8)]\n",
            "Cluster: 0, label: 5\n",
            "[array([0], dtype=uint8)]\n",
            "Cluster: 1, label: 0\n",
            "[array([4], dtype=uint8)]\n",
            "Cluster: 2, label: 4\n",
            "[array([1], dtype=uint8)]\n",
            "Cluster: 3, label: 1\n",
            "[array([9], dtype=uint8)]\n",
            "Cluster: 4, label: 9\n",
            "[array([2], dtype=uint8)]\n",
            "Cluster: 5, label: 2\n",
            "[array([1], dtype=uint8)]\n",
            "Cluster: 6, label: 1\n",
            "[array([3], dtype=uint8)]\n",
            "Cluster: 7, label: 3\n",
            "[array([1], dtype=uint8)]\n",
            "Cluster: 8, label: 1\n",
            "[array([4], dtype=uint8)]\n",
            "Cluster: 9, label: 4\n",
            "[array([3], dtype=uint8)]\n",
            "Cluster: 10, label: 3\n",
            "[array([5], dtype=uint8)]\n",
            "Cluster: 11, label: 5\n",
            "[array([3], dtype=uint8)]\n",
            "Cluster: 12, label: 3\n",
            "[array([6], dtype=uint8)]\n",
            "Cluster: 13, label: 6\n",
            "[array([1], dtype=uint8)]\n",
            "Cluster: 14, label: 1\n",
            "[array([7], dtype=uint8)]\n",
            "Cluster: 15, label: 7\n",
            "[array([2], dtype=uint8)]\n",
            "Cluster: 16, label: 2\n",
            "[array([8], dtype=uint8)]\n",
            "Cluster: 17, label: 8\n",
            "[array([6], dtype=uint8)]\n",
            "Cluster: 18, label: 6\n",
            "[array([9], dtype=uint8)]\n",
            "Cluster: 19, label: 9\n",
            "[array([4], dtype=uint8)]\n",
            "Cluster: 20, label: 4\n",
            "[5 5 5 5 5 5 5 5 5 5]\n",
            "[5 0 4 1 9 2 1 3 1 4]\n"
          ]
        },
        {
          "output_type": "display_data",
          "data": {
            "image/png": "[encoded data removed]",
            "text/plain": [
              "<Figure size 432x288 with 1 Axes>"
            ]
          },
          "metadata": {
            "needs_background": "light"
          }
        }
      ]
    },
    {
      "cell_type": "markdown",
      "metadata": {
        "id": "x_H-YpWjYYqL"
      },
      "source": [
        "Now lets measure its accuracy :"
      ]
    },
    {
      "cell_type": "code",
      "metadata": {
        "id": "4PyGitwXYa_4"
      },
      "source": [
        "# purity measure function\n",
        "from sklearn import metrics\n",
        "\n",
        "def purity_score(y_true, y_pred):\n",
        "    # compute contingency matrix (also called confusion matrix)\n",
        "    contingency_matrix = metrics.cluster.contingency_matrix(y_true, y_pred)\n",
        "    # return purity\n",
        "    return np.sum(np.amax(contingency_matrix, axis=0)) / np.sum(contingency_matrix) "
      ],
      "execution_count": null,
      "outputs": []
    },
    {
      "cell_type": "code",
      "metadata": {
        "id": "BuRyWVdeaPo7"
      },
      "source": [
        "# rand index measurement function\n",
        "from sklearn.metrics.cluster import adjusted_rand_score\n",
        "def rand_index_score(y_true,y_pred):\n",
        "  return adjusted_rand_score(y_true,y_pred)"
      ],
      "execution_count": null,
      "outputs": []
    },
    {
      "cell_type": "code",
      "metadata": {
        "colab": {
          "base_uri": "https://localhost:8080/"
        },
        "id": "sgNMcywWaQ4n",
        "outputId": "8aa21b7e-6d4a-4fa3-8713-b0ad2f5194af"
      },
      "source": [
        "print(\" rand index score of meanshift algorithm with bandwidth parameter of 8 is :\" +str(rand_index_score(Y[:10000,],predicted_labels)) )\n",
        "print(\"purity  of meanshift algorithm with bandwidth parameter of 8  is :\" +str(purity_score(Y[:10000,],predicted_labels)) )"
      ],
      "execution_count": null,
      "outputs": [
        {
          "output_type": "stream",
          "name": "stdout",
          "text": [
            " rand index score of meanshift algorithm with bandwidth parameter of 8 is :0.0019033455645360666\n",
            "purity  of meanshift algorithm with bandwidth parameter of 8  is :0.1408\n"
          ]
        }
      ]
    },
    {
      "cell_type": "code",
      "metadata": {
        "id": "17QYEtPXaeUz"
      },
      "source": [
        ""
      ],
      "execution_count": null,
      "outputs": []
    }
  ]
}