{
  "nbformat": 4,
  "nbformat_minor": 0,
  "metadata": {
    "colab": {
      "name": "AgglomerativeClustering.ipynb",
      "provenance": [],
      "collapsed_sections": []
    },
    "kernelspec": {
      "name": "python3",
      "display_name": "Python 3"
    },
    "language_info": {
      "name": "python"
    }
  },
  "cells": [
    {
      "cell_type": "markdown",
      "metadata": {
        "id": "4012bmKuGt83"
      },
      "source": [
        "**Agglomerative clustering :** now we want to implement Agglomerative clustering .\n"
      ]
    },
    {
      "cell_type": "code",
      "metadata": {
        "colab": {
          "base_uri": "https://localhost:8080/",
          "height": 350
        },
        "id": "JL9HdlX9GkjU",
        "outputId": "ad54009a-4043-49c3-abad-977485f1b53d"
      },
      "source": [
        "import sys\n",
        "import sklearn\n",
        "import matplotlib\n",
        "import numpy as np\n",
        "import matplotlib.pyplot as plt\n",
        "%matplotlib inline\n",
        "from keras.datasets import mnist\n",
        "from tqdm import tqdm\n",
        "(x_train, y_train), (x_test, y_test) = mnist.load_data()\n",
        "print(x_train.shape)\n",
        "print(y_train.shape)\n",
        "plt.imshow(x_train[10])\n",
        "plt.show()\n",
        "y_train[10]\n",
        "# convert each image to 1 dimensional array\n",
        "\n",
        "X = x_train.reshape(len(x_train),-1)\n",
        "Y = y_train\n",
        "\n",
        "# normalize the data to 0 - 1\n",
        "\n",
        "X = X.astype(float) / 255.\n",
        "\n",
        "print(X.shape)\n",
        "print(X[0].shape)\n",
        "sklearn.__version__"
      ],
      "execution_count": null,
      "outputs": [
        {
          "output_type": "stream",
          "name": "stdout",
          "text": [
            "(60000, 28, 28)\n",
            "(60000,)\n"
          ]
        },
        {
          "output_type": "display_data",
          "data": {
            "image/png": "[encoded data removed]",
            "text/plain": [
              "<Figure size 432x288 with 1 Axes>"
            ]
          },
          "metadata": {
            "needs_background": "light"
          }
        },
        {
          "output_type": "stream",
          "name": "stdout",
          "text": [
            "(60000, 784)\n",
            "(784,)\n"
          ]
        },
        {
          "output_type": "execute_result",
          "data": {
            "application/vnd.google.colaboratory.intrinsic+json": {
              "type": "string"
            },
            "text/plain": [
              "'0.22.2.post1'"
            ]
          },
          "metadata": {},
          "execution_count": 1
        }
      ]
    },
    {
      "cell_type": "code",
      "metadata": {
        "id": "S5V8bwWeG2RI"
      },
      "source": [
        "from sklearn.cluster import AgglomerativeClustering"
      ],
      "execution_count": null,
      "outputs": []
    },
    {
      "cell_type": "code",
      "metadata": {
        "id": "2YsgH-5MJseu"
      },
      "source": [
        "ac10 = AgglomerativeClustering(n_clusters = 10)\n",
        "\n",
        "\n",
        "AgglomerativeClustering= ac10.fit(X[:5000,])\n"
      ],
      "execution_count": null,
      "outputs": []
    },
    {
      "cell_type": "code",
      "metadata": {
        "colab": {
          "base_uri": "https://localhost:8080/"
        },
        "id": "Vy5vN2tuMoy-",
        "outputId": "7c2299bb-39e1-4acb-b99e-7d86cdf9152e"
      },
      "source": [
        "AgglomerativeClustering.n_clusters_"
      ],
      "execution_count": null,
      "outputs": [
        {
          "output_type": "execute_result",
          "data": {
            "text/plain": [
              "10"
            ]
          },
          "metadata": {},
          "execution_count": 4
        }
      ]
    },
    {
      "cell_type": "code",
      "metadata": {
        "colab": {
          "base_uri": "https://localhost:8080/"
        },
        "id": "SRTtVv-BSmIy",
        "outputId": "5cf65916-cb12-48b9-ce83-2d7e9c1de08f"
      },
      "source": [
        "AgglomerativeClustering.labels_"
      ],
      "execution_count": null,
      "outputs": [
        {
          "output_type": "execute_result",
          "data": {
            "text/plain": [
              "array([4, 0, 5, ..., 6, 3, 6])"
            ]
          },
          "metadata": {},
          "execution_count": 5
        }
      ]
    },
    {
      "cell_type": "code",
      "metadata": {
        "colab": {
          "base_uri": "https://localhost:8080/"
        },
        "id": "Cx3uFHlWStf5",
        "outputId": "947b6365-6e06-4b63-e48c-75778b315655"
      },
      "source": [
        "AgglomerativeClustering.labels_[10]"
      ],
      "execution_count": null,
      "outputs": [
        {
          "output_type": "execute_result",
          "data": {
            "text/plain": [
              "4"
            ]
          },
          "metadata": {},
          "execution_count": 6
        }
      ]
    },
    {
      "cell_type": "code",
      "metadata": {
        "id": "ri9s0rdZS3UV"
      },
      "source": [
        ""
      ],
      "execution_count": null,
      "outputs": []
    },
    {
      "cell_type": "markdown",
      "metadata": {
        "id": "K-uOIUN7S9xU"
      },
      "source": [
        "Like previous algorithms, we need to infer labels from clusters based on the counts of  actual labels."
      ]
    },
    {
      "cell_type": "code",
      "metadata": {
        "id": "qDaWKxGoTbxu"
      },
      "source": [
        "def infer_cluster_labels(kmeans, actual_labels):\n",
        "  inferred_labels = {}\n",
        "\n",
        "  for i in range(kmeans.n_clusters):\n",
        "\n",
        "    # find index of points in cluster\n",
        "    labels = []\n",
        "    index = np.where(kmeans.labels_ == i)\n",
        "    #print(\"index is : \" + str(index))\n",
        "    # append actual labels for each point in cluster\n",
        "    labels.append(actual_labels[index])\n",
        "    #print(\"actual label  is : \" + str(actual_labels[index]))\n",
        "    # determine most common label\n",
        "    if len(labels[0]) == 1:\n",
        "        counts = np.bincount(labels[0])\n",
        "    else:\n",
        "        counts = np.bincount(np.squeeze(labels))\n",
        "\n",
        "    # assign the cluster to a value in the inferred_labels dictionary\n",
        "    if np.argmax(counts) in inferred_labels:\n",
        "        # append the new number to the existing array at this slot\n",
        "        inferred_labels[np.argmax(counts)].append(i)\n",
        "    else:\n",
        "        # create a new array in this slot\n",
        "        inferred_labels[np.argmax(counts)] = [i]\n",
        "\n",
        "    print(labels)\n",
        "    print('Cluster: {}, label: {}'.format(i, np.argmax(counts)))\n",
        "    \n",
        "  return inferred_labels\n",
        "\n"
      ],
      "execution_count": null,
      "outputs": []
    },
    {
      "cell_type": "code",
      "metadata": {
        "colab": {
          "base_uri": "https://localhost:8080/",
          "height": 1000
        },
        "id": "YOPO-NXcTeEt",
        "outputId": "f5fd3116-b997-45d5-86fc-d8da4e777ec8"
      },
      "source": [
        "def infer_data_labels(X_labels, cluster_labels):\n",
        "  # empty array of len(X)\n",
        "  predicted_labels = np.zeros(len(X_labels)).astype(np.uint8)\n",
        "\n",
        "  for i, cluster in enumerate(X_labels):\n",
        "      for key, value in cluster_labels.items():\n",
        "          if cluster in value:\n",
        "              predicted_labels[i] = key\n",
        "            \n",
        "  return predicted_labels\n",
        "\n",
        "# test the infer_cluster_labels() and infer_data_labels() functions\n",
        "\n",
        "cluster_labels = infer_cluster_labels(AgglomerativeClustering, Y)\n",
        "X_clusters = AgglomerativeClustering.fit_predict(X[:5000,])\n",
        "#X_clusters says that each ndarray belong to which cluster but the index is not as same as label of our mnist(digits)\n",
        "predicted_labels = infer_data_labels(X_clusters, cluster_labels)\n",
        "print (predicted_labels[:10])\n",
        "print (Y[:10])\n",
        "plt.imshow(X[2].reshape(28,28))\n",
        "plt.show()"
      ],
      "execution_count": null,
      "outputs": [
        {
          "output_type": "stream",
          "name": "stdout",
          "text": [
            "[array([0, 0, 0, 0, 0, 0, 0, 0, 0, 0, 0, 0, 0, 0, 0, 0, 0, 0, 0, 0, 0, 0,\n",
            "       0, 0, 0, 0, 0, 0, 0, 0, 0, 0, 0, 0, 0, 0, 0, 0, 0, 0, 0, 0, 0, 0,\n",
            "       0, 0, 0, 0, 6, 6, 0, 0, 0, 0, 0, 0, 0, 0, 0, 0, 0, 0, 0, 0, 0, 0,\n",
            "       0, 0, 0, 0, 0, 0, 0, 0, 0, 6, 0, 0, 0, 0, 0, 4, 0, 0, 0, 0, 0, 0,\n",
            "       9, 0, 0, 0, 0, 0, 0, 0, 0, 0, 0, 0, 0, 0, 0, 0, 0, 0, 0, 0, 0, 0,\n",
            "       0, 0, 0, 2, 0, 0, 6, 0, 0, 8, 0, 0, 0, 8, 0, 0, 0, 0, 0, 0, 0, 0,\n",
            "       0, 0, 0, 0, 0, 0, 0, 0, 0, 0, 0, 0, 0, 0, 0, 0, 0, 0, 0, 0, 0, 0,\n",
            "       0, 0, 0, 0, 0, 0, 0, 0, 0, 0, 0, 0, 0, 0, 0, 0, 0, 0, 0, 0, 0, 0,\n",
            "       0, 0, 0, 0, 0, 0, 0, 0, 0, 0, 0, 0, 0, 0, 0, 0, 0, 0, 0, 0, 0, 0,\n",
            "       0, 0, 0, 0, 0, 0, 0, 0, 0, 0, 0, 0, 0, 0, 0, 0, 6, 0, 0, 0, 0, 0,\n",
            "       0, 0, 0, 0, 0, 0, 0, 0, 0, 0, 0, 0, 0, 0, 0, 0, 0, 0, 0, 0, 0, 0,\n",
            "       0, 0, 0, 6, 0, 0, 0, 0, 0, 0, 0, 0, 0, 0, 0, 0, 0, 0, 0, 0, 0, 0,\n",
            "       0, 0, 0, 0, 6, 0, 0, 0, 0, 0, 0, 0, 0, 0, 0, 0, 0, 0, 0, 0, 0, 0,\n",
            "       0, 0, 0, 0, 0, 0, 0, 0, 0, 0, 0, 0, 0, 0, 0, 0, 0, 0, 0, 0, 0, 0,\n",
            "       0, 0, 0, 0, 0, 0, 0, 0, 0, 0, 0, 0, 0, 0, 0, 0, 0, 0, 0, 6, 0, 0,\n",
            "       0, 0, 0, 0, 6, 6, 0, 0, 0, 0, 0, 6, 0, 0, 0, 0, 0, 0, 0, 0, 0, 0,\n",
            "       0, 6, 0, 0, 0, 6, 6, 6, 0, 0, 0, 0, 0, 6, 0, 0, 0, 0, 0, 0, 0, 0,\n",
            "       0, 0, 0, 0, 0, 0, 0, 0, 0, 0, 0, 0, 0, 0, 0, 0, 0, 0, 0, 0, 0, 6,\n",
            "       0, 0, 0, 0, 0, 0, 0, 0, 0, 0, 0, 0, 0, 0, 0, 0, 0, 0, 0, 0, 0, 6,\n",
            "       9, 0, 0, 0, 0, 0, 0, 0, 0, 0, 0, 0, 0, 0, 0, 0, 0, 0, 0, 0, 0, 0,\n",
            "       0, 0, 0, 0, 0, 0, 0, 0, 0, 0, 0, 0, 0, 0, 0, 0, 0, 0, 0, 0, 0, 0,\n",
            "       0, 0, 0, 0, 0, 0, 0, 0, 0, 0, 0, 0, 0, 0], dtype=uint8)]\n",
            "Cluster: 0, label: 0\n",
            "[array([6, 6, 6, 6, 6, 6, 6, 6, 9, 6, 6, 6, 6, 6, 6, 6, 6, 6, 6, 6, 6, 6,\n",
            "       6, 0, 6, 6, 6, 6, 6, 6, 6, 6, 6, 6, 6, 6, 6, 5, 6, 4, 6, 6, 6, 6,\n",
            "       6, 6, 6, 6, 6, 6, 6, 6, 6, 6, 6, 6, 6, 6, 6, 6, 6, 6, 6, 6, 6, 6,\n",
            "       6, 6, 6, 6, 0, 6, 6, 6, 6, 6, 6, 6, 6, 6, 6, 6, 6, 6, 6, 6, 6, 6,\n",
            "       6, 6, 6, 6, 6, 6, 6, 6, 6, 6, 6, 6, 6, 6, 6, 6, 0, 6, 6, 6, 6, 6,\n",
            "       6, 6, 6, 6, 6, 6, 6, 6, 6, 6, 6, 6, 6, 6, 6, 6, 6, 6, 8, 6, 6, 6,\n",
            "       6, 6, 6, 6, 3, 6, 6, 6, 6, 6, 6, 6, 6, 6, 6, 6, 6, 6, 6, 6, 6, 6,\n",
            "       6, 6, 6, 6, 6, 6, 6, 6, 6, 6, 6, 6, 6, 6, 6, 6, 6, 6, 6, 6, 6, 6,\n",
            "       6, 6, 6, 6, 6, 6, 6, 6, 6, 6, 6, 6, 0, 6, 6, 6, 6, 6, 6, 6, 6, 6,\n",
            "       6, 6, 6, 6, 6, 6, 6, 0, 6, 6, 6, 6, 6, 6, 6, 6, 6, 6, 6, 6, 6, 0,\n",
            "       6, 5, 5, 6, 6, 6, 6, 6, 6, 6, 6, 0, 6, 6, 6, 6, 6, 6, 6, 6, 6, 6,\n",
            "       6, 4, 6, 2, 6, 6, 6, 6, 6, 6, 6, 6, 6, 6, 6, 6, 6, 6, 6, 6, 6, 6,\n",
            "       6, 6, 6, 6, 6, 6, 6, 6, 6, 6, 6, 6, 6, 6, 6, 0, 6, 6, 6, 6, 6, 6,\n",
            "       6, 6, 6, 6, 6, 6, 6, 6, 6, 6, 6, 0, 6, 6, 6, 6, 5, 6, 6, 6, 6, 6,\n",
            "       6, 6, 6, 6, 6, 6, 6, 6, 6, 6, 6, 6, 6, 6, 6, 6, 6, 6, 6, 6, 6, 6,\n",
            "       6, 6, 6, 6, 6, 6, 6, 6, 6, 6, 6, 6, 6, 6, 6, 0, 6, 6, 6, 6, 0, 6,\n",
            "       0, 6, 6, 6, 6, 6, 6, 6, 6, 6, 6, 6, 6, 6, 6, 6, 6, 6, 6, 6, 6, 6,\n",
            "       6, 6, 6, 6, 6, 6, 6, 6, 6, 6, 6, 6, 6, 6, 6, 6, 6, 6, 6, 6, 6, 5,\n",
            "       6, 6, 6, 6, 6, 6, 6, 6, 6, 6, 6, 6, 6, 6, 6, 6, 0, 6, 6, 6, 6, 6,\n",
            "       6, 6, 6, 6, 6, 6, 6, 6, 6, 6, 5, 6, 6, 6, 6, 6, 6, 6, 6, 6, 6, 6,\n",
            "       6, 6, 5, 6, 6, 6, 6, 6, 6, 6, 6, 6, 6, 6, 4, 6, 6, 6, 6, 6, 6, 6,\n",
            "       6, 6, 2, 6, 5, 6, 6, 6, 6, 6, 6, 6, 6, 6, 6, 6, 6, 6, 0, 6, 6, 6,\n",
            "       6, 6, 6, 6, 6, 6, 6, 6, 6, 0, 6, 6, 6, 6, 6, 6, 6, 6], dtype=uint8)]\n",
            "Cluster: 1, label: 6\n",
            "[array([4, 5, 7, 9, 9, 7, 9, 5, 9, 9, 5, 9, 5, 7, 7, 9, 7, 7, 4, 7, 4, 4,\n",
            "       9, 4, 7, 4, 5, 7, 9, 4, 9, 7, 5, 5, 9, 7, 5, 7, 9, 4, 5, 7, 9, 7,\n",
            "       5, 4, 5, 9, 4, 7, 5, 4, 5, 9, 5, 4, 4, 7, 7, 7, 9, 9, 4, 5, 7, 4,\n",
            "       7, 4, 4, 4, 7, 4, 9, 7, 9, 5, 5, 9, 7, 4, 4, 5, 8, 9, 5, 9, 5, 9,\n",
            "       4, 5, 7, 9, 7, 9, 9, 7, 7, 5, 7, 5, 9, 9, 4, 5, 4, 5, 4, 7, 4, 5,\n",
            "       9, 4, 7, 9, 9, 7, 9, 4, 7, 5, 7, 9, 7, 9, 9, 7, 9, 4, 7, 5, 7, 4,\n",
            "       4, 4, 7, 9, 4, 7, 9, 7, 9, 9, 4, 7, 9, 9, 7, 5, 9, 7, 4, 9, 7, 7,\n",
            "       9, 9, 4, 7, 4, 7, 5, 7, 9, 7, 4, 4, 5, 7, 8, 5, 5, 9, 7, 8, 4, 4,\n",
            "       5, 7, 5, 7, 7, 5, 4, 7, 7, 9, 8, 8, 7, 7, 9, 9, 4, 5, 7, 7, 9, 9,\n",
            "       5, 4, 7, 5, 4, 9, 5, 3, 7, 7, 4, 5, 9, 9, 9, 7, 7, 7, 9, 4, 9, 9,\n",
            "       4, 9, 9, 4, 7, 7, 4, 7, 9, 3, 5, 9, 5, 5, 9, 4, 5, 9, 5, 9, 9, 7,\n",
            "       7, 9, 5, 5, 9, 5, 7, 9, 7, 7, 7, 9, 7, 9, 7, 9, 5, 7, 9, 7, 5, 5,\n",
            "       9, 5, 7, 9, 9, 9, 5, 5, 5, 4, 7, 7, 9, 9, 5, 7, 7, 7, 7, 9, 4, 9,\n",
            "       7, 5, 5, 9, 5, 7, 9, 9, 9, 5, 9, 5, 7, 5, 7, 9, 4, 9, 4, 4, 5, 5,\n",
            "       4, 9, 4, 8, 4, 4, 4, 4, 8, 5, 5, 5, 9, 5, 5, 4, 7, 4, 5, 7, 9, 7,\n",
            "       7, 9, 7, 5, 4, 4, 4, 7, 5, 7, 4, 3, 9, 9, 9, 7, 4, 4, 4, 4, 4, 4,\n",
            "       7, 9, 4, 4, 4, 4, 4, 5, 7, 7, 8, 9, 4, 5, 7, 8, 9, 3, 7, 8, 9, 7,\n",
            "       4, 5, 5, 4, 7, 8, 3, 8, 1, 7, 7, 7, 4, 4, 4, 5, 7, 4, 4, 9, 7, 5,\n",
            "       9, 4, 9, 7, 4, 4, 7, 9, 9, 5, 9, 5, 7, 5, 5, 9, 8, 9, 4, 7, 7, 4,\n",
            "       4, 7, 9, 7, 9, 5, 9, 5, 4, 9, 5, 7, 5, 7, 7, 9, 4, 4, 7, 9, 7, 9,\n",
            "       7, 5, 4, 4, 9, 4, 7, 5, 9, 9, 9, 7, 5, 5, 5, 4, 8, 7, 7, 9, 7, 4,\n",
            "       5, 7, 9, 9, 4, 5, 7, 9, 4, 7, 9, 7, 9, 5, 5, 7, 4, 5, 4, 9, 7, 4,\n",
            "       9, 7, 9, 4, 9, 7, 7, 9, 5, 7, 4, 9, 9, 4, 4, 9, 4, 5, 5, 9, 7, 4,\n",
            "       7, 9, 9, 4, 4, 4, 5, 7, 9, 4, 5, 7, 7, 4, 5, 7, 9, 4, 7, 4, 4, 7,\n",
            "       7, 7, 9, 4, 9, 7, 5, 5, 7, 9, 5, 9, 5, 9, 9, 4, 7, 5, 4, 7, 7, 4,\n",
            "       9, 5, 9, 5, 9, 4, 5, 7, 4, 5, 7, 7, 4, 9, 5, 4, 4, 4, 7, 9, 5, 7,\n",
            "       4, 4, 9, 9, 4, 7, 7, 9, 7, 5, 5, 9, 5, 7, 5, 4, 5, 8, 5, 5, 9, 5,\n",
            "       9, 8, 5, 4, 7, 4, 4, 5, 5, 4, 4, 9, 7, 7, 7, 4, 9, 4, 7, 9, 7, 5,\n",
            "       9, 7, 7, 7, 4, 7, 4, 9, 9, 7, 7, 9, 5, 4, 7, 4, 9, 4, 5, 9, 9, 9,\n",
            "       7, 9, 7, 9, 7, 5, 9, 5, 9, 5, 7, 9, 9, 4, 5, 7, 9, 9, 7, 7, 5, 4,\n",
            "       5, 7, 9, 9, 5, 5, 7, 9, 7, 5, 7, 9, 5, 9, 7, 9, 5, 9, 7, 7, 7, 9,\n",
            "       7, 7, 9, 9, 4, 4, 7, 7, 7, 5, 9, 5, 5, 7, 5, 9, 7, 9, 7, 4, 4, 5,\n",
            "       7, 9, 7, 9, 4, 7, 7, 7, 7, 5, 4, 4, 7, 7, 7, 9, 9, 7, 9, 5, 5, 5,\n",
            "       4, 9, 7, 5, 7, 9, 4, 5, 5, 7, 9, 5, 7, 9, 9, 7, 9, 5, 9, 7, 7],\n",
            "      dtype=uint8)]\n",
            "Cluster: 2, label: 7\n",
            "[array([1, 1, 1, 1, 4, 1, 1, 1, 1, 1, 1, 1, 1, 1, 8, 1, 1, 1, 1, 1, 1, 1,\n",
            "       1, 1, 2, 1, 1, 1, 1, 1, 1, 1, 1, 1, 1, 1, 1, 1, 1, 1, 1, 1, 1, 1,\n",
            "       1, 1, 1, 1, 1, 1, 1, 1, 1, 1, 1, 1, 1, 1, 1, 1, 1, 7, 1, 1, 1, 1,\n",
            "       1, 1, 1, 1, 1, 1, 1, 1, 1, 1, 1, 1, 1, 1, 1, 1, 1, 1, 1, 1, 1, 1,\n",
            "       1, 1, 1, 1, 1, 1, 4, 1, 1, 1, 1, 1, 1, 1, 1, 1, 1, 1, 1, 1, 1, 1,\n",
            "       1, 1, 1, 1, 1, 1, 1, 1, 3, 3, 1, 1, 1, 1, 1, 1, 1, 1, 1, 1, 1, 0,\n",
            "       1, 1, 1, 1, 1, 1, 1, 1, 1, 1, 1, 1, 1, 1, 1, 1, 1, 1, 1, 1, 1, 1,\n",
            "       1, 1, 1, 1, 9, 1, 1, 1, 1, 1, 1, 1, 1, 1, 6, 1, 1, 1, 1, 1, 7, 1,\n",
            "       1, 1, 1, 1, 1, 1, 1, 1, 1, 1, 1, 1, 1, 1, 1, 1, 1, 1, 1, 1, 1, 1,\n",
            "       1, 1, 1, 1, 1, 1, 1, 1, 1, 1, 1, 1, 1, 1, 1, 1, 1, 1, 1, 1, 1, 1,\n",
            "       1, 1, 1, 1, 1, 1, 1, 1, 1, 1, 1, 1, 1, 1, 1, 1, 1, 1, 1, 1, 1, 1,\n",
            "       1, 1, 1, 1, 7, 1, 8, 1, 1, 1, 1, 1, 1, 1, 1, 1, 1, 1, 1, 1, 1, 1,\n",
            "       1, 6, 5, 1, 1, 1, 1, 4, 1, 1, 1, 1, 1, 1, 1, 1, 1, 1, 1, 1, 1, 1,\n",
            "       1, 1, 1, 9, 1, 1, 1, 1, 1, 1, 1, 1, 1, 1, 1, 1, 1, 1, 1, 1, 1, 1,\n",
            "       1, 1, 1, 1, 1, 1, 1, 1, 1, 1, 1, 1, 1, 1, 1, 1, 1, 1, 1, 1, 1, 1,\n",
            "       1, 1, 1, 1, 1, 1, 1, 1, 1, 1, 1, 1, 1, 1, 1, 1, 1, 1, 1, 1, 1, 8,\n",
            "       1, 1, 1, 1, 1, 1, 1, 1, 1, 1, 1, 1, 1, 1, 1, 1, 1, 1, 2, 1, 1, 1,\n",
            "       1, 1, 1, 1, 1, 1, 1, 1, 1, 1, 8, 1, 1, 1, 1, 1, 1, 1, 1, 1, 5, 1,\n",
            "       1, 1, 1, 1, 1, 1, 1], dtype=uint8)]\n",
            "Cluster: 3, label: 1\n",
            "[array([5, 3, 3, 8, 8, 8, 8, 8, 8, 8, 8, 5, 3, 8, 3, 5, 8, 3, 3, 8, 8, 8,\n",
            "       3, 3, 3, 8, 3, 8, 3, 8, 5, 3, 3, 6, 3, 8, 8, 8, 3, 3, 5, 8, 3, 8,\n",
            "       9, 8, 3, 8, 8, 3, 8, 3, 3, 8, 8, 8, 8, 5, 5, 8, 5, 8, 8, 3, 5, 8,\n",
            "       8, 8, 8, 3, 3, 8, 3, 8, 8, 6, 3, 8, 8, 5, 8, 3, 5, 3, 3, 5, 8, 3,\n",
            "       5, 8, 3, 5, 8, 3, 8, 5, 8, 5, 8, 8, 8, 3, 8, 5, 8, 3, 8, 8, 5, 5,\n",
            "       3, 5, 8, 8, 8, 5, 3, 5, 3, 8, 3, 8, 3, 8, 5, 5, 8, 8, 5, 6, 5, 8,\n",
            "       8, 8, 3, 8, 8, 3, 8, 3, 8, 5, 8, 8, 3, 5, 8, 8, 3, 0, 8, 3, 3, 8,\n",
            "       8, 3, 8, 8, 8, 8, 8, 8, 8, 8, 8, 6, 8, 5, 8, 8, 8, 5, 8, 5, 5, 8,\n",
            "       8, 9, 5, 8, 8, 5, 5, 8, 8, 8, 8, 8, 5, 8, 5, 8, 5, 8, 5, 8, 3, 3,\n",
            "       8, 8, 3, 5, 3, 8, 8, 3, 3, 3, 8, 8, 5, 3, 8, 3, 8, 3, 5, 8, 5, 3,\n",
            "       3, 8, 8, 8, 8, 8, 8, 8, 8, 6, 8, 3, 8, 3, 8, 3, 5, 3, 5, 5, 8, 8,\n",
            "       3, 5, 8, 8, 8, 5, 8, 3, 5, 3, 3, 8, 8, 5, 3, 5, 8, 5, 5, 5, 5, 8,\n",
            "       6, 8, 8, 3, 8, 5, 5, 8, 8, 8, 8, 8, 8, 5, 8, 5, 8, 5, 5, 8, 8, 8,\n",
            "       8, 5, 8, 3, 5, 5, 8, 8, 8, 8, 5, 8, 5, 5, 5, 5, 5, 8, 8, 5, 5, 6,\n",
            "       5, 3, 8, 3, 8, 8, 8, 8, 8, 5, 8, 3, 8, 3, 3, 8, 8, 3, 8, 3, 3, 8,\n",
            "       8, 5, 3, 3, 3, 3, 5, 5, 8, 5, 8, 8, 8, 8, 3, 8, 3, 3, 8, 8, 8, 8,\n",
            "       8, 5, 8, 3, 5, 5, 5, 8, 8, 3, 8, 8, 8, 8, 8, 5, 5, 5, 5, 5, 5, 8,\n",
            "       8, 5, 5, 8, 8, 5, 5, 8, 8, 8, 8, 8, 8, 5, 8, 8, 8, 8, 8, 8, 2, 5,\n",
            "       8, 8, 8, 8, 8, 8, 8, 5, 3, 3, 3, 5, 8, 3, 8, 3, 3, 8, 3, 8, 8, 3,\n",
            "       8, 8, 8, 3, 8, 8, 3, 3, 3, 8, 3, 8, 8, 0, 5, 3, 5, 5, 3, 8, 3, 8,\n",
            "       8, 5, 8, 3, 8, 8, 8, 8, 8, 8, 8, 8, 5, 8, 8, 8, 8, 3, 3, 8, 5, 8,\n",
            "       8, 8, 8, 5, 5, 8, 8, 8, 8, 8, 5, 8, 8, 8, 5, 5, 3, 8, 3, 2, 8, 8,\n",
            "       8, 5, 3, 8, 8, 8, 2, 5, 8, 3, 5, 8, 5, 5, 8, 8, 5, 8, 8, 5, 8, 8,\n",
            "       8, 8, 5, 5, 3, 8, 3, 8, 8, 6, 8, 8, 8, 8, 8, 5, 3, 2, 5, 5, 5, 8,\n",
            "       3, 8, 8, 5, 3, 8, 3, 8, 8, 3, 8, 3, 8, 5, 5, 5, 8, 8, 8, 8, 5, 5,\n",
            "       8, 5, 3, 3, 5, 3, 0, 8, 8, 3, 3, 8, 3, 8, 3, 3, 3, 8, 3, 8, 8, 3,\n",
            "       8, 8, 2, 8, 3, 3, 8, 3, 3, 3, 8, 8, 8, 8, 5, 8, 3, 8, 5, 8, 3, 3,\n",
            "       8, 8, 0, 8, 5, 8, 8, 8, 5, 8, 8, 5, 8, 5, 8, 8, 5, 5, 3, 8, 8, 5,\n",
            "       8, 8, 8, 8, 8, 8, 5, 8, 3, 3, 8, 3, 8, 5, 8, 3, 8, 2, 3, 8, 3, 8,\n",
            "       9, 5, 8, 3, 8, 3], dtype=uint8)]\n",
            "Cluster: 4, label: 8\n",
            "[array([4, 4, 4, 4, 4, 4, 4, 9, 7, 4, 4, 7, 4, 9, 4, 4, 9, 4, 4, 9, 9, 4,\n",
            "       4, 9, 9, 4, 7, 9, 4, 7, 4, 4, 5, 4, 4, 4, 4, 4, 9, 4, 4, 4, 4, 9,\n",
            "       9, 4, 7, 9, 4, 4, 4, 4, 4, 4, 4, 4, 4, 4, 4, 9, 9, 9, 4, 9, 4, 4,\n",
            "       4, 4, 5, 9, 4, 9, 9, 4, 4, 4, 4, 4, 9, 4, 4, 4, 4, 4, 4, 9, 4, 4,\n",
            "       4, 4, 4, 4, 9, 4, 9, 4, 7, 4, 9, 9, 4, 7, 4, 4, 9, 4, 7, 4, 4, 4,\n",
            "       4, 4, 9, 4, 5, 9, 4, 9, 4, 9, 4, 4, 7, 4, 7, 4, 7, 9, 9, 4, 4, 9,\n",
            "       4, 4, 4, 9, 9, 4, 4, 9, 9, 9, 4, 9, 9, 4, 9, 4, 9, 9, 4, 4, 4, 4,\n",
            "       9, 4, 9, 9, 4, 4, 9, 4, 4, 4, 9, 9, 9, 4, 4, 4, 9, 7, 4, 4, 4, 4,\n",
            "       4, 9, 7, 4, 4, 4, 4, 4, 4, 9, 4, 4, 4, 4, 4, 4, 4, 4, 4, 9, 9, 4,\n",
            "       7, 9, 4, 4, 9, 4, 4, 4, 4, 4, 4, 9, 4, 4, 4, 4, 4, 4, 4, 9, 9, 4,\n",
            "       9, 9, 7, 4, 4, 4, 9, 4, 4, 9, 9, 9, 4, 4, 9, 4, 4, 9, 4, 9, 4, 4,\n",
            "       4, 4, 4, 2, 9, 4, 9, 4, 4, 9, 4, 9, 4, 4, 4, 9, 4, 9, 4, 4, 4, 9,\n",
            "       9, 4, 4, 4, 9, 9, 4, 9, 4, 9, 9, 4, 9, 9, 4, 4, 9, 4, 4, 7, 4, 4,\n",
            "       9, 9, 4, 9, 4, 9, 9, 4, 4, 4, 4, 9, 9, 9, 5, 4, 0, 4, 4, 9, 4, 4,\n",
            "       4, 4, 4, 4, 9, 4, 4, 9, 9, 3, 9, 4, 4, 9, 4, 4, 9, 4, 4, 4, 9, 9,\n",
            "       9, 4, 4, 7, 9, 4, 9, 8, 9, 4, 4, 9, 4, 9, 4, 4, 4, 9, 4, 4, 4, 4,\n",
            "       9, 4, 4, 5, 4, 4, 9, 7, 4, 4, 9, 4, 9, 4, 3, 4, 4, 4, 9, 4, 7, 4,\n",
            "       4, 9, 7, 4, 9, 4, 4, 4, 4, 4, 4, 4, 4, 9, 9, 9, 4, 9, 4, 4, 4, 4,\n",
            "       4, 9, 9, 7, 4, 9, 9, 4, 4, 4, 4, 4, 9, 9, 4, 4, 4, 7, 4, 4, 7, 4,\n",
            "       4, 4, 7, 9, 9, 4, 4, 7, 7, 4, 9, 4, 4, 4, 7, 9, 9, 4, 9, 4, 4, 4,\n",
            "       4, 7, 7, 4, 9, 4, 7, 9, 4, 9, 9, 4, 7, 9, 4, 4, 4], dtype=uint8)]\n",
            "Cluster: 5, label: 4\n",
            "[array([2, 2, 2, 2, 4, 1, 2, 2, 2, 2, 2, 2, 2, 2, 4, 2, 2, 2, 2, 2, 2, 2,\n",
            "       2, 1, 2, 3, 2, 2, 2, 2, 2, 2, 2, 2, 2, 2, 8, 2, 2, 2, 2, 2, 2, 2,\n",
            "       2, 2, 2, 2, 2, 2, 2, 2, 2, 2, 7, 2, 7, 2, 2, 2, 2, 2, 2, 2, 2, 2,\n",
            "       2, 2, 5, 2, 2, 2, 2, 4, 2, 2, 2, 2, 2, 2, 2, 2, 2, 2, 2, 2, 9, 2,\n",
            "       2, 2, 2, 2, 2, 2, 2, 2, 2, 6, 2, 2, 2, 7, 2, 7, 2, 0, 2, 7, 2, 2,\n",
            "       2, 4, 2, 2, 2, 2, 2, 2, 2, 3, 5, 2, 2, 2, 2, 2, 2, 3, 2, 2, 2, 3,\n",
            "       3, 2, 2, 2, 2, 2, 3, 2, 2, 3, 3, 2, 3, 2, 2, 2, 2, 2, 2, 2, 2, 4,\n",
            "       2, 2, 2, 2, 4, 4, 4, 2, 2, 2, 4, 9, 2, 4, 2, 4, 4, 2, 2, 2, 2, 2,\n",
            "       2, 2, 2, 2, 2, 2, 2, 2, 2, 2, 2, 2, 2, 2, 2, 2, 2, 2, 2, 2, 2, 2,\n",
            "       2, 4, 2, 2, 2, 2, 2, 2, 2, 2, 2, 2, 2, 2, 2, 2, 2, 2, 3, 2, 2, 2,\n",
            "       2, 2, 2, 2, 2, 2, 2, 2, 2, 2, 2, 2, 2, 2, 3, 2, 2, 2, 8, 2, 2, 2,\n",
            "       2, 2, 2, 2, 2, 2, 2, 2, 2, 2, 2, 2, 2, 2, 2, 2, 2, 2, 2, 1, 2, 2,\n",
            "       2, 2, 2, 2, 2, 2, 2, 2, 2, 2, 2, 2, 2, 2, 2, 2, 7, 2, 2, 2, 2, 7,\n",
            "       8, 2, 2, 2, 2, 3, 2, 2, 2, 2, 2, 2, 2, 2, 2, 2, 2, 2, 2, 2, 2, 2,\n",
            "       2, 2, 2, 2, 2, 2, 4, 2, 2, 2, 2, 8, 2, 2, 7, 8, 2, 2, 2, 8, 2, 2,\n",
            "       2, 2, 2, 2, 2, 2, 2, 2, 2, 2, 2, 2, 2, 2, 2, 2, 2, 2, 2, 2, 2, 2,\n",
            "       2, 2, 2, 2, 2, 2, 2, 2, 2, 2, 2, 2, 2, 2, 2, 2, 8, 2, 2, 2, 2, 2,\n",
            "       2, 2, 2, 2, 2, 5, 2, 2, 2, 2, 2, 2, 2, 2, 2, 2, 2, 2, 2, 2, 2, 2,\n",
            "       2, 2, 2, 2, 3, 2, 2, 2, 2, 2, 2, 2, 2, 2, 2, 2, 2, 2, 2, 2, 2, 7,\n",
            "       2, 2, 2, 2, 2, 2, 2, 2, 8, 7, 2, 1, 2, 2, 2, 2, 2, 2, 2, 2, 2, 2,\n",
            "       2, 2, 2, 4, 2, 2, 2, 2, 2, 2, 2, 0, 2, 2, 2, 2, 2, 2, 2, 2, 2, 2,\n",
            "       2, 2, 2, 2, 2, 2, 2, 1, 3, 2, 2, 2, 2, 2, 2, 2, 2, 2, 2, 2, 2, 2,\n",
            "       2, 1, 2, 2, 2, 2, 2, 8, 2, 2, 1, 2, 2, 2, 2, 2, 2, 2, 2, 2, 2, 2,\n",
            "       2, 2, 2, 2, 8, 2, 2, 2, 1, 2, 2], dtype=uint8)]\n",
            "Cluster: 6, label: 2\n",
            "[array([1, 1, 1, 7, 3, 9, 1, 2, 3, 7, 1, 1, 1, 5, 1, 7, 8, 4, 8, 2, 1, 1,\n",
            "       7, 3, 8, 1, 4, 1, 4, 1, 1, 7, 5, 1, 1, 1, 1, 7, 1, 1, 1, 5, 5, 8,\n",
            "       3, 7, 1, 3, 2, 4, 9, 8, 1, 8, 7, 1, 1, 8, 8, 1, 8, 8, 7, 8, 1, 8,\n",
            "       4, 5, 4, 1, 8, 3, 5, 1, 3, 9, 1, 8, 3, 7, 9, 3, 7, 1, 1, 1, 8, 1,\n",
            "       2, 1, 8, 1, 8, 7, 7, 8, 2, 1, 4, 3, 1, 3, 3, 1, 1, 1, 3, 2, 9, 2,\n",
            "       7, 3, 1, 8, 3, 1, 8, 3, 1, 1, 1, 3, 5, 1, 1, 1, 4, 2, 5, 3, 0, 2,\n",
            "       1, 7, 3, 1, 1, 1, 4, 1, 2, 1, 3, 1, 4, 1, 7, 1, 7, 1, 7, 3, 7, 3,\n",
            "       4, 3, 1, 8, 4, 1, 1, 1, 7, 8, 1, 3, 3, 2, 3, 1, 3, 8, 3, 1, 1, 7,\n",
            "       3, 2, 1, 1, 4, 4, 1, 3, 3, 1, 1, 3, 4, 8, 1, 1, 1, 1, 4, 1, 1, 1,\n",
            "       2, 5, 1, 8, 8, 1, 3, 3, 7, 4, 3, 3, 1, 9, 1, 7, 5, 8, 1, 1, 8, 8,\n",
            "       1, 1, 2, 1, 3, 1, 1, 1, 7, 1, 2, 2, 3, 1, 3, 7, 1, 9, 1, 1, 5, 3,\n",
            "       1, 8, 1, 1, 7, 8, 3, 3, 7, 1, 4, 3, 8, 5, 1, 1, 1, 7, 3, 8, 3, 8,\n",
            "       2, 7, 7, 1, 1, 1, 1, 7, 1, 1, 3, 3, 1, 3, 7, 1, 1, 7, 1, 3, 8, 1,\n",
            "       3, 1, 3, 7, 8, 3, 1, 1, 1, 8, 3, 1, 5, 9, 7, 9, 7, 7, 1, 8, 1, 1,\n",
            "       8, 1, 7, 3, 1, 5, 1, 8, 7, 3, 7, 1, 1, 8, 4, 1, 8, 1, 1, 1, 1, 3,\n",
            "       1, 3, 3, 1, 1, 4, 2, 1, 4, 1, 8, 7, 1, 8, 8, 8, 8, 4, 1, 1, 1, 1,\n",
            "       2, 1, 7, 5, 8, 1, 7, 3, 3, 1, 8, 9, 1, 1, 1, 7, 3, 1, 1, 5, 1, 1,\n",
            "       1, 4, 5, 1, 1, 4, 1, 1, 1, 4, 3, 8, 8, 1, 1, 1, 1, 1, 1, 1, 1, 1,\n",
            "       1, 1, 1, 1, 1, 2], dtype=uint8)]\n",
            "Cluster: 7, label: 1\n",
            "[array([3, 3, 3, 3, 3, 3, 3, 3, 3, 3, 3, 3, 5, 3, 3, 5, 0, 3, 5, 5, 3, 5,\n",
            "       5, 3, 5, 3, 8, 3, 8, 3, 3, 3, 3, 3, 3, 5, 5, 5, 3, 5, 3, 5, 5, 3,\n",
            "       3, 3, 5, 5, 3, 3, 5, 8, 5, 3, 3, 3, 5, 3, 3, 3, 5, 3, 5, 3, 3, 3,\n",
            "       3, 3, 5, 3, 5, 3, 3, 3, 3, 3, 5, 5, 5, 5, 3, 5, 5, 3, 3, 3, 3, 5,\n",
            "       9, 5, 3, 5, 3, 3, 3, 3, 3, 3, 3, 5, 8, 3, 3, 3, 3, 8, 3, 3, 3, 5,\n",
            "       9, 3, 3, 3, 5, 3, 3, 8, 3, 5, 3, 3, 3, 3, 3, 5, 3, 5, 8, 3, 3, 5,\n",
            "       5, 8, 3, 3, 5, 3, 5, 8, 3, 5, 3, 3, 3, 3, 3, 5, 3, 3, 8, 5, 3, 3,\n",
            "       5, 3, 3, 3, 8, 3, 3, 3, 3, 5, 5, 3, 3, 5, 5, 5, 3, 5, 5, 3, 5, 5,\n",
            "       5, 3, 5, 3, 3, 3, 5, 3, 3, 5, 3, 3, 5, 0, 5, 3, 3, 8, 3, 3, 3, 5,\n",
            "       5, 3, 3, 3, 3, 5, 3, 5, 3, 3, 5, 3, 3, 3, 3, 8, 3, 3, 8, 3, 3, 3,\n",
            "       3, 3, 3, 3, 3, 3, 3, 8, 3, 3, 5, 3, 3, 3, 8, 3, 3, 3, 3, 5, 8, 3,\n",
            "       8, 3, 5, 3, 3, 5, 5, 5, 8, 3, 5, 3, 3, 8, 9, 3, 6, 3, 3, 3, 5, 3,\n",
            "       3, 3, 3, 3, 3, 8, 3, 3, 8, 3, 3, 8, 3, 3, 3, 3, 3, 5, 3, 3, 3, 3,\n",
            "       3, 3, 3, 3, 3, 8, 3, 3, 9, 3, 8, 5, 3, 3, 3, 3, 3, 5, 3, 8, 3, 5,\n",
            "       3, 3, 3, 3, 5, 3, 3, 8, 5, 5, 3, 5, 3, 3, 3, 3, 3, 3, 3, 3, 3, 3,\n",
            "       5, 5, 3, 3, 3, 5, 3, 3, 3, 8, 5, 3, 5, 8, 3, 3, 5, 3, 3, 3, 3, 5,\n",
            "       3, 3, 3, 5, 3, 3, 3, 3, 5, 3, 5, 3, 5, 5, 3, 5, 3, 3, 3, 3, 5, 8,\n",
            "       3, 3, 5, 8, 3, 5, 8, 8, 3, 3, 8, 5, 8, 5, 3, 8, 5, 5, 3, 8, 8, 3,\n",
            "       3, 3, 8, 3, 3, 3, 5, 3, 3, 8, 5, 2, 3, 3, 5, 0], dtype=uint8)]\n",
            "Cluster: 8, label: 3\n",
            "[array([9, 4, 7, 7, 9, 7, 7, 9, 9, 9, 9, 9, 9, 7, 9, 7, 7, 9, 9, 7, 9, 7,\n",
            "       4, 7, 9, 7, 9, 4, 9, 9, 7, 4, 9, 7, 7, 9, 7, 2, 7, 9, 3, 9, 7, 9,\n",
            "       7, 9, 4, 9, 7, 7, 7, 7, 4, 7, 7, 9, 7, 5, 9, 7, 7, 9, 9, 7, 2, 7,\n",
            "       7, 7, 7, 7, 7, 7, 7, 7, 7, 7, 9, 7, 4, 4, 7, 7, 7, 7, 9, 7, 7, 4,\n",
            "       4, 4, 9, 7, 9, 7, 7, 7, 7, 7, 7, 7, 7, 7, 7, 9, 4, 7, 9, 7, 7, 7,\n",
            "       7, 7, 9, 9, 7, 7, 9, 7, 7, 4, 9, 7, 7, 7, 7, 7, 7, 9, 4, 7, 7, 9,\n",
            "       9, 7, 9, 7, 7, 9, 7, 7, 7, 7, 7, 7, 9, 7, 7, 7, 9, 9, 9, 9, 9, 9,\n",
            "       7, 9, 7, 7, 9, 7, 7, 7, 9, 7, 7, 7, 9, 9, 4, 7, 7, 7, 9, 7, 7, 7,\n",
            "       7, 9, 7, 4, 7, 7, 7, 9, 2, 7, 9, 9, 9, 4, 7, 7, 7, 7, 4, 9, 7, 4,\n",
            "       7, 9, 7, 9, 9, 7, 9, 7, 7, 7, 9, 9, 9, 7, 7, 7, 9, 7, 7, 4, 7, 9,\n",
            "       7, 9, 7, 7, 7, 7, 7, 9, 9, 7, 7, 7, 7, 9, 7, 4, 7, 7, 4, 7, 7, 4,\n",
            "       7, 7, 7, 4, 4, 7, 7, 7, 9, 9, 4, 9, 4, 9, 4, 7, 7, 9, 9, 7, 9, 7,\n",
            "       7, 4, 9, 7, 4, 7, 7, 7, 9, 9, 7, 4, 9, 4, 7, 4, 9, 9, 9, 7, 7, 4,\n",
            "       4, 7, 4, 9, 7, 9, 7, 9, 7, 7, 7, 9, 7, 7, 7, 7, 4, 7, 7, 9, 4, 9,\n",
            "       9, 7, 7, 7, 9, 9, 7, 7, 7, 9, 7, 9, 7, 9, 9, 9, 7, 7, 7, 7, 4, 9,\n",
            "       4, 7, 9, 7, 7, 7, 7, 9, 9, 7, 9, 9, 7, 7, 7, 7, 7, 9, 9, 9, 9, 7,\n",
            "       4, 9, 7, 7, 7, 4, 7, 7, 9, 7, 7, 9, 7, 7, 7, 7, 4, 7, 5, 7, 7, 9,\n",
            "       9, 7, 7, 7, 7, 7, 4, 7, 7, 7, 7, 4, 7, 7, 7, 4, 7, 9, 7, 4, 7, 7,\n",
            "       9, 4, 7, 9, 9, 7, 9, 9, 7, 9, 7, 9, 9, 7, 9, 9, 3, 4, 7, 4, 7, 4,\n",
            "       7, 7, 9, 9, 7, 7, 7, 7, 4, 7, 7, 9, 7, 7, 9, 7, 7, 9, 9, 7, 7, 7],\n",
            "      dtype=uint8)]\n",
            "Cluster: 9, label: 7\n",
            "[8 0 4 1 7 2 1 8 1 7]\n",
            "[5 0 4 1 9 2 1 3 1 4]\n"
          ]
        },
        {
          "output_type": "display_data",
          "data": {
            "image/png": "[encoded data removed]",
            "text/plain": [
              "<Figure size 432x288 with 1 Axes>"
            ]
          },
          "metadata": {
            "needs_background": "light"
          }
        }
      ]
    },
    {
      "cell_type": "code",
      "metadata": {
        "id": "Tsspl4BXTfjk"
      },
      "source": [
        ""
      ],
      "execution_count": null,
      "outputs": []
    },
    {
      "cell_type": "markdown",
      "metadata": {
        "id": "Ak4hEwlaVizC"
      },
      "source": [
        "Now lets measure our accuracy by two methods :purity and rand index ."
      ]
    },
    {
      "cell_type": "code",
      "metadata": {
        "id": "ifMKaoeCVnZY"
      },
      "source": [
        "# purity measure function\n",
        "from sklearn import metrics\n",
        "\n",
        "def purity_score(y_true, y_pred):\n",
        "    # compute contingency matrix (also called confusion matrix)\n",
        "    contingency_matrix = metrics.cluster.contingency_matrix(y_true, y_pred)\n",
        "    # return purity\n",
        "    return np.sum(np.amax(contingency_matrix, axis=0)) / np.sum(contingency_matrix) "
      ],
      "execution_count": null,
      "outputs": []
    },
    {
      "cell_type": "code",
      "metadata": {
        "id": "2jUNlu-jVqUR"
      },
      "source": [
        "# rand index measurement function\n",
        "from sklearn.metrics.cluster import adjusted_rand_score\n",
        "def rand_index_score(y_true,y_pred):\n",
        "  return adjusted_rand_score(y_true,y_pred)"
      ],
      "execution_count": null,
      "outputs": []
    },
    {
      "cell_type": "code",
      "metadata": {
        "colab": {
          "base_uri": "https://localhost:8080/"
        },
        "id": "4u-ghs-FWEPr",
        "outputId": "4392e18a-fa51-4c2e-a9cb-46e743f587c3"
      },
      "source": [
        ""
      ],
      "execution_count": null,
      "outputs": [
        {
          "output_type": "execute_result",
          "data": {
            "text/plain": [
              "(5000,)"
            ]
          },
          "metadata": {},
          "execution_count": 14
        }
      ]
    },
    {
      "cell_type": "code",
      "metadata": {
        "colab": {
          "base_uri": "https://localhost:8080/"
        },
        "id": "mEk1-jGyVruU",
        "outputId": "e672e288-d12e-428f-b4e2-cd05328c7115"
      },
      "source": [
        "print(\" rand index score of agglomerative algorithm with n cluster parameter of 10 is :\" +str(rand_index_score(Y[:5000,],predicted_labels)) )\n",
        "print(\"purity  of agglomerativealgorithm with n cluster parameter of 10 is :\" +str(purity_score(Y[:5000,],predicted_labels)) )"
      ],
      "execution_count": null,
      "outputs": [
        {
          "output_type": "stream",
          "name": "stdout",
          "text": [
            " rand index score of agglomerative algorithm with n cluster parameter of 10 is :0.4867033244603001\n",
            "purity  of agglomerativealgorithm with n cluster parameter of 10 is :0.6532\n"
          ]
        }
      ]
    },
    {
      "cell_type": "code",
      "metadata": {
        "id": "o4GWE4KVV4GJ"
      },
      "source": [
        ""
      ],
      "execution_count": null,
      "outputs": []
    },
    {
      "cell_type": "markdown",
      "metadata": {
        "id": "lUVm0qUgWQuq"
      },
      "source": [
        "*Statics are satisfying. However, we only caclute 5k of datas but we reach the rand index of 65% which is highest accuracy among other methods.*\n"
      ]
    },
    {
      "cell_type": "code",
      "metadata": {
        "id": "mxpkrPvXXCtV"
      },
      "source": [
        ""
      ],
      "execution_count": null,
      "outputs": []
    }
  ]
}